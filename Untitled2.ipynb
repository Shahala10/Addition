{
  "nbformat": 4,
  "nbformat_minor": 0,
  "metadata": {
    "colab": {
      "provenance": [],
      "toc_visible": true,
      "authorship_tag": "ABX9TyMUX8cKZOtg2MACyqJk6dMB",
      "include_colab_link": true
    },
    "kernelspec": {
      "name": "python3",
      "display_name": "Python 3"
    },
    "language_info": {
      "name": "python"
    }
  },
  "cells": [
    {
      "cell_type": "markdown",
      "metadata": {
        "id": "view-in-github",
        "colab_type": "text"
      },
      "source": [
        "<a href=\"https://colab.research.google.com/github/Shahala10/Addition/blob/main/Untitled2.ipynb\" target=\"_parent\"><img src=\"https://colab.research.google.com/assets/colab-badge.svg\" alt=\"Open In Colab\"/></a>"
      ]
    },
    {
      "cell_type": "code",
      "execution_count": 4,
      "metadata": {
        "colab": {
          "base_uri": "https://localhost:8080/"
        },
        "id": "53tL0wjuA1x3",
        "outputId": "873b82f1-883d-40e8-8ac0-2d3a9d8d1512"
      },
      "outputs": [
        {
          "output_type": "stream",
          "name": "stdout",
          "text": [
            "Enter the first name:SHAHALA\n",
            "enter the second nameRAHSHIMA\n",
            "BOTH THE NAMES ARE NOT EQUAL\n"
          ]
        }
      ],
      "source": [
        "a=input(\"Enter the first name:\")\n",
        "b=input(\"enter the second name\")\n",
        "if a==b:\n",
        "  print(\"BOTH THE NAMES ARE SAME\")\n",
        "else:\n",
        "  print(\"BOTH THE NAMES ARE NOT EQUAL\")"
      ]
    },
    {
      "cell_type": "code",
      "source": [
        "a=input(\"enter a name\")\n",
        "len(a)"
      ],
      "metadata": {
        "colab": {
          "base_uri": "https://localhost:8080/"
        },
        "id": "Gg1njQUoDHFM",
        "outputId": "8d25e425-4693-4dbe-e253-83a9cd3a329b"
      },
      "execution_count": 5,
      "outputs": [
        {
          "name": "stdout",
          "output_type": "stream",
          "text": [
            "enter a nameshahala\n"
          ]
        },
        {
          "output_type": "execute_result",
          "data": {
            "text/plain": [
              "7"
            ]
          },
          "metadata": {},
          "execution_count": 5
        }
      ]
    },
    {
      "cell_type": "code",
      "source": [
        "a='SHAHALA RAHSHIMA'\n",
        "a[11:]"
      ],
      "metadata": {
        "colab": {
          "base_uri": "https://localhost:8080/",
          "height": 35
        },
        "id": "vGPYgfb5D1f7",
        "outputId": "db98e3df-ca33-4742-a3c5-f6338bcab3ec"
      },
      "execution_count": 14,
      "outputs": [
        {
          "output_type": "execute_result",
          "data": {
            "text/plain": [
              "'SHIMA'"
            ],
            "application/vnd.google.colaboratory.intrinsic+json": {
              "type": "string"
            }
          },
          "metadata": {},
          "execution_count": 14
        }
      ]
    },
    {
      "cell_type": "code",
      "source": [
        "my_list=[1,2,3]\n",
        "print(my_list)"
      ],
      "metadata": {
        "colab": {
          "base_uri": "https://localhost:8080/"
        },
        "id": "yejkVbB7Euz0",
        "outputId": "396358ae-b703-4ce1-9464-365c50adbb10"
      },
      "execution_count": 15,
      "outputs": [
        {
          "output_type": "stream",
          "name": "stdout",
          "text": [
            "[1, 2, 3]\n"
          ]
        }
      ]
    },
    {
      "cell_type": "code",
      "source": [
        "my_list=['shahala','krishnaja','shakeena','nasrin','shaaannn']\n",
        "my_list.append('apppuuuu')\n",
        "my_list.pop(0)\n",
        "my_list.sort()\n",
        "print(my_list)\n"
      ],
      "metadata": {
        "colab": {
          "base_uri": "https://localhost:8080/"
        },
        "id": "tLeGPcpdI_Hc",
        "outputId": "5f60c08d-c645-4856-bb57-358792ad575c"
      },
      "execution_count": 23,
      "outputs": [
        {
          "output_type": "stream",
          "name": "stdout",
          "text": [
            "['apppuuuu', 'krishnaja', 'nasrin', 'shaaannn', 'shakeena']\n"
          ]
        }
      ]
    },
    {
      "cell_type": "code",
      "source": [],
      "metadata": {
        "id": "TLq1QIdTKpe8"
      },
      "execution_count": null,
      "outputs": []
    }
  ]
}